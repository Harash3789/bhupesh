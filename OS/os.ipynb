{
 "cells": [
  {
   "cell_type": "markdown",
   "id": "b8acdd3c",
   "metadata": {},
   "source": [
    "## os"
   ]
  },
  {
   "cell_type": "code",
   "execution_count": 24,
   "id": "8fc45873",
   "metadata": {},
   "outputs": [],
   "source": [
    "import os"
   ]
  },
  {
   "cell_type": "code",
   "execution_count": 25,
   "id": "ed8b6ef2",
   "metadata": {},
   "outputs": [
    {
     "name": "stdout",
     "output_type": "stream",
     "text": [
      "c:\\Users\\harsh\\OneDrive\\Desktop\\data science\\OS\n"
     ]
    }
   ],
   "source": [
    "file =os.getcwd()                ####get current working directory\n",
    "print(file)"
   ]
  },
  {
   "cell_type": "code",
   "execution_count": 26,
   "id": "4f43ba93",
   "metadata": {},
   "outputs": [
    {
     "name": "stdout",
     "output_type": "stream",
     "text": [
      "total file in this directory:- c:\\Users\\harsh\\OneDrive\\Desktop\\data science\\OS\n"
     ]
    }
   ],
   "source": [
    "os.listdir(r\"c:\\Users\\harsh\\OneDrive\\Desktop\\data science\\OS\")  ###list all the file in th directory\n",
    "print(\"total file in this directory:-\",file)"
   ]
  },
  {
   "cell_type": "code",
   "execution_count": 27,
   "id": "2650fc5d",
   "metadata": {},
   "outputs": [
    {
     "name": "stdout",
     "output_type": "stream",
     "text": [
      "total file in this directory:- c:\\Users\\harsh\\OneDrive\\Desktop\\data science\\OS\n"
     ]
    }
   ],
   "source": [
    "os.listdir(r\"C:\\Users\\harsh\\OneDrive\\Desktop\\data science\\Python\")\n",
    "print(\"total file in this directory:-\",file)"
   ]
  },
  {
   "cell_type": "code",
   "execution_count": 28,
   "id": "545ccb5f",
   "metadata": {},
   "outputs": [
    {
     "data": {
      "text/plain": [
       "['conditional.ipynb',\n",
       " 'demo.txt',\n",
       " 'exception.ipynb',\n",
       " 'file_handling.ipynb',\n",
       " 'first.py',\n",
       " 'function.ipynb',\n",
       " 'looping.ipynb',\n",
       " 'oops.ipynb',\n",
       " 'txt.txt',\n",
       " 'up.txt',\n",
       " 'upflair.txt']"
      ]
     },
     "execution_count": 28,
     "metadata": {},
     "output_type": "execute_result"
    }
   ],
   "source": [
    "path =r\"C:\\Users\\harsh\\OneDrive\\Desktop\\data science\\Python\"\n",
    "os.listdir(path)"
   ]
  },
  {
   "cell_type": "code",
   "execution_count": 29,
   "id": "9759f033",
   "metadata": {},
   "outputs": [
    {
     "name": "stdout",
     "output_type": "stream",
     "text": [
      "folder created succesfully\n"
     ]
    }
   ],
   "source": [
    "os.mkdir(\"text\")\n",
    "print(\"folder created succesfully\")"
   ]
  },
  {
   "cell_type": "code",
   "execution_count": 30,
   "id": "31337677",
   "metadata": {},
   "outputs": [
    {
     "data": {
      "text/plain": [
       "['os.ipynb', 'text']"
      ]
     },
     "execution_count": 30,
     "metadata": {},
     "output_type": "execute_result"
    }
   ],
   "source": [
    "os.listdir(os.getcwd())\n"
   ]
  },
  {
   "cell_type": "code",
   "execution_count": 31,
   "id": "54d0d628",
   "metadata": {},
   "outputs": [
    {
     "name": "stdout",
     "output_type": "stream",
     "text": [
      "folder rename succesfully\n"
     ]
    }
   ],
   "source": [
    "os.rename(\"text\",\"data science\")\n",
    "print(\"folder rename succesfully\")"
   ]
  },
  {
   "cell_type": "code",
   "execution_count": 32,
   "id": "506d8dc3",
   "metadata": {},
   "outputs": [
    {
     "data": {
      "text/plain": [
       "['data science', 'os.ipynb']"
      ]
     },
     "execution_count": 32,
     "metadata": {},
     "output_type": "execute_result"
    }
   ],
   "source": [
    "os.listdir(os.getcwd())"
   ]
  },
  {
   "cell_type": "code",
   "execution_count": 33,
   "id": "902d3195",
   "metadata": {},
   "outputs": [
    {
     "name": "stdout",
     "output_type": "stream",
     "text": [
      "folder deleted succesfully\n"
     ]
    }
   ],
   "source": [
    "os.rmdir(\"data science\")\n",
    "print(\"folder deleted succesfully\")"
   ]
  },
  {
   "cell_type": "code",
   "execution_count": 34,
   "id": "c3a7c38a",
   "metadata": {},
   "outputs": [
    {
     "data": {
      "text/plain": [
       "['os.ipynb']"
      ]
     },
     "execution_count": 34,
     "metadata": {},
     "output_type": "execute_result"
    }
   ],
   "source": [
    "os.listdir(os.getcwd())"
   ]
  },
  {
   "cell_type": "code",
   "execution_count": 35,
   "id": "e1d53f74",
   "metadata": {},
   "outputs": [],
   "source": [
    "###os."
   ]
  },
  {
   "cell_type": "code",
   "execution_count": 36,
   "id": "49ce47f8",
   "metadata": {},
   "outputs": [
    {
     "data": {
      "text/plain": [
       "b'c:\\\\Users\\\\harsh\\\\OneDrive\\\\Desktop\\\\data science\\\\OS'"
      ]
     },
     "execution_count": 36,
     "metadata": {},
     "output_type": "execute_result"
    }
   ],
   "source": [
    "os.getcwdb()"
   ]
  },
  {
   "cell_type": "code",
   "execution_count": 38,
   "id": "7a1eba53",
   "metadata": {},
   "outputs": [
    {
     "name": "stdout",
     "output_type": "stream",
     "text": [
      "path exist None\n"
     ]
    }
   ],
   "source": [
    "path=r\"C:\\Users\\harsh\\OneDrive\\Desktop\\data science\\Python\"\n",
    "path =os.environ.get(path)\n",
    "print(\"path exist\",path)"
   ]
  },
  {
   "cell_type": "code",
   "execution_count": 39,
   "id": "75267580",
   "metadata": {},
   "outputs": [],
   "source": [
    "##os.system(path) ### system comand"
   ]
  },
  {
   "cell_type": "code",
   "execution_count": 40,
   "id": "cb84a3c8",
   "metadata": {},
   "outputs": [
    {
     "data": {
      "text/plain": [
       "False"
      ]
     },
     "execution_count": 40,
     "metadata": {},
     "output_type": "execute_result"
    }
   ],
   "source": [
    "path =r\"C:\\Users\\harsh\\OneDrive\\Desktop\\data science\\Python\"\n",
    "os.path.isfile(path)"
   ]
  },
  {
   "cell_type": "code",
   "execution_count": 41,
   "id": "c3f75c38",
   "metadata": {},
   "outputs": [
    {
     "name": "stdout",
     "output_type": "stream",
     "text": [
      "C:\\Users\\harsh\\OneDrive\\Desktop\\data science\\Python\n"
     ]
    },
    {
     "data": {
      "text/plain": [
       "['conditional.ipynb',\n",
       " 'demo.txt',\n",
       " 'exception.ipynb',\n",
       " 'file_handling.ipynb',\n",
       " 'first.py',\n",
       " 'function.ipynb',\n",
       " 'looping.ipynb',\n",
       " 'oops.ipynb',\n",
       " 'txt.txt',\n",
       " 'up.txt',\n",
       " 'upflair.txt']"
      ]
     },
     "execution_count": 41,
     "metadata": {},
     "output_type": "execute_result"
    }
   ],
   "source": [
    "path1 = r\"C:\\Users\\harsh\\OneDrive\"\n",
    "path2 =r\"Desktop\\data science\\Python\"\n",
    "complete_path =os.path.join(path1, path2)\n",
    "print(complete_path)\n",
    "os.listdir(complete_path)"
   ]
  },
  {
   "cell_type": "code",
   "execution_count": 42,
   "id": "686f7f4c",
   "metadata": {},
   "outputs": [
    {
     "name": "stdout",
     "output_type": "stream",
     "text": [
      "before dir c:\\Users\\harsh\\OneDrive\\Desktop\\data science\\OS\n",
      "after dir C:\\Users\\harsh\\OneDrive\\Desktop\\data science\\Python\n"
     ]
    }
   ],
   "source": [
    "print(\"before dir\",os.getcwd())\n",
    "os.chdir(r\"C:\\Users\\harsh\\OneDrive\\Desktop\\data science\\Python\")\n",
    "print(\"after dir\",os.getcwd())"
   ]
  },
  {
   "cell_type": "code",
   "execution_count": null,
   "id": "7905742f",
   "metadata": {},
   "outputs": [],
   "source": []
  }
 ],
 "metadata": {
  "kernelspec": {
   "display_name": "Python 3",
   "language": "python",
   "name": "python3"
  },
  "language_info": {
   "codemirror_mode": {
    "name": "ipython",
    "version": 3
   },
   "file_extension": ".py",
   "mimetype": "text/x-python",
   "name": "python",
   "nbconvert_exporter": "python",
   "pygments_lexer": "ipython3",
   "version": "3.11.5"
  }
 },
 "nbformat": 4,
 "nbformat_minor": 5
}
