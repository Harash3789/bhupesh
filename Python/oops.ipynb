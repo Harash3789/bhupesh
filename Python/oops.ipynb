{
 "cells": [
  {
   "cell_type": "markdown",
   "id": "e27cdcaa",
   "metadata": {},
   "source": [
    "## oops concept in python"
   ]
  },
  {
   "cell_type": "code",
   "execution_count": 6,
   "id": "d69f2c65",
   "metadata": {},
   "outputs": [],
   "source": [
    "# # global variable\n",
    "# local variable \n",
    "# polymorphism\n",
    "# inheritence \n",
    "# encapsulation\n",
    "# abstraction"
   ]
  },
  {
   "cell_type": "code",
   "execution_count": 2,
   "id": "f0a3a50d",
   "metadata": {},
   "outputs": [],
   "source": [
    "class class_name:\n",
    "    pass \n",
    "#class _name>>>class name \n",
    "#pass >>placeholder\n",
    "#class is a keyboard"
   ]
  },
  {
   "cell_type": "code",
   "execution_count": 10,
   "id": "b29fd128",
   "metadata": {},
   "outputs": [
    {
     "name": "stdout",
     "output_type": "stream",
     "text": [
      "my name is ritik and my age is 20\n"
     ]
    }
   ],
   "source": [
    "class Student:\n",
    "    name =\"ritik\"#class variable \n",
    "    age = 20  #class variable \n",
    "    print (f\"my name is {name} and my age is {20}\")\n",
    "obj_st=Student()#obj_st is object"
   ]
  },
  {
   "cell_type": "code",
   "execution_count": 8,
   "id": "8cb5a266",
   "metadata": {},
   "outputs": [
    {
     "data": {
      "text/plain": [
       "'ritik'"
      ]
     },
     "execution_count": 8,
     "metadata": {},
     "output_type": "execute_result"
    }
   ],
   "source": [
    "obj_st.name"
   ]
  },
  {
   "cell_type": "code",
   "execution_count": 9,
   "id": "3a8d82d1",
   "metadata": {},
   "outputs": [
    {
     "data": {
      "text/plain": [
       "20"
      ]
     },
     "execution_count": 9,
     "metadata": {},
     "output_type": "execute_result"
    }
   ],
   "source": [
    "obj_st.age"
   ]
  },
  {
   "cell_type": "code",
   "execution_count": null,
   "id": "114eca9c",
   "metadata": {},
   "outputs": [],
   "source": [
    "class Student:\n",
    "    name = \"ritik\" \n",
    "    age = 20 #class variable \n",
    "\n",
    "    def info(self):\n",
    "        print(\"this is my method\")\n",
    "        print (\"how are you all\")\n",
    "\n",
    "dt_obj= Student()"
   ]
  },
  {
   "cell_type": "code",
   "execution_count": 23,
   "id": "cc6d31c3",
   "metadata": {},
   "outputs": [
    {
     "name": "stdout",
     "output_type": "stream",
     "text": [
      " my is ritikand my age is 20\n"
     ]
    }
   ],
   "source": [
    "dt_obj.info()"
   ]
  },
  {
   "cell_type": "code",
   "execution_count": 21,
   "id": "21baa459",
   "metadata": {},
   "outputs": [],
   "source": [
    "class Student:\n",
    "    name = \"ritik\" \n",
    "    age = 20 #class variable \n",
    "\n",
    "    def info(self):\n",
    "        print(f\" my is {self.name}and my age is {self.age}\")\n",
    "        # print (\"how are you all\")\n",
    "\n",
    "\n",
    "dt_obj =Student()"
   ]
  },
  {
   "cell_type": "code",
   "execution_count": 22,
   "id": "6cb5c4e9",
   "metadata": {},
   "outputs": [
    {
     "name": "stdout",
     "output_type": "stream",
     "text": [
      " my is ritikand my age is 20\n"
     ]
    }
   ],
   "source": [
    "dt_obj.info()"
   ]
  },
  {
   "cell_type": "markdown",
   "id": "d9c1cd91",
   "metadata": {},
   "source": [
    "\n",
    "# inheritance "
   ]
  },
  {
   "cell_type": "markdown",
   "id": "4879e5c3",
   "metadata": {},
   "source": [
    "###type of inheritance \n",
    "   *single inheritance\n",
    "   *multiple inheritance\n",
    "   *multilevel\n",
    "   *hierarchical\n",
    "   *hybrid"
   ]
  },
  {
   "cell_type": "code",
   "execution_count": null,
   "id": "f6b755ef",
   "metadata": {},
   "outputs": [],
   "source": [
    "# class collage :\n",
    "#     pass\n",
    "\n",
    "# class Student:\n",
    "#     pass"
   ]
  },
  {
   "cell_type": "code",
   "execution_count": 16,
   "id": "d7ab0fad",
   "metadata": {},
   "outputs": [],
   "source": [
    "###single inheritance\n",
    "class Collage:\n",
    "     pass\n",
    "class Student(Collage):\n",
    "    pass"
   ]
  },
  {
   "cell_type": "code",
   "execution_count": 4,
   "id": "c1ff6708",
   "metadata": {},
   "outputs": [
    {
     "name": "stdout",
     "output_type": "stream",
     "text": [
      "Raffles university\n",
      "Neemrana\n",
      "Bhupesh\n",
      "1234\n"
     ]
    }
   ],
   "source": [
    "\n",
    "   ### single inheritence\n",
    "class college:\n",
    "    college_name = \"Raffles university\"\n",
    "    college_address = \"Neemrana\"\n",
    "\n",
    "class student(college):\n",
    "    student_name = \"Bhupesh\"\n",
    "    student_id = \"1234\"\n",
    "st_obj = student()\n",
    "print(st_obj.college_name)\n",
    "print(st_obj.college_address)\n",
    "print(st_obj.student_name)\n",
    "print(st_obj.student_id)"
   ]
  },
  {
   "cell_type": "code",
   "execution_count": 24,
   "id": "b435b154",
   "metadata": {},
   "outputs": [
    {
     "data": {
      "text/plain": [
       "'Bhupesh'"
      ]
     },
     "execution_count": 24,
     "metadata": {},
     "output_type": "execute_result"
    }
   ],
   "source": [
    "st_obj.student_name"
   ]
  },
  {
   "cell_type": "code",
   "execution_count": 2,
   "id": "e93c2cdf",
   "metadata": {},
   "outputs": [
    {
     "name": "stdout",
     "output_type": "stream",
     "text": [
      "Ritik\n",
      "1234\n",
      "Rohit kumar\n"
     ]
    }
   ],
   "source": [
    "class Father:\n",
    "    father_name = \"Ritik\"\n",
    "    father_id = \"1234\"\n",
    "class Uncle:\n",
    "    uncle_name = \"Rohit kumar\"\n",
    "class child(Father,Uncle):\n",
    "    pass\n",
    "\n",
    "obj_child = child()\n",
    "print(obj_child.father_name)\n",
    "print(obj_child.father_id)\n",
    "print(obj_child.uncle_name)"
   ]
  },
  {
   "cell_type": "code",
   "execution_count": 3,
   "id": "c1ad6463",
   "metadata": {},
   "outputs": [
    {
     "name": "stdout",
     "output_type": "stream",
     "text": [
      "Ritik\n",
      "1234\n",
      "Rohit kumar\n",
      "1234fjkd\n"
     ]
    }
   ],
   "source": [
    "#### multiple inheritence \n",
    "class Grandfather:\n",
    "    grandfather_name = \"Ritik\"\n",
    "    grandfather_id = \"1234\"\n",
    "\n",
    "class Father(Grandfather):\n",
    "    father_name = \"Rohit kumar\"\n",
    "    father_id = \"1234fjkd\"\n",
    "\n",
    "class child(Father):\n",
    "    pass\n",
    "obj_child =child()\n",
    "\n",
    "print(obj_child.grandfather_name)\n",
    "print(obj_child.grandfather_id)\n",
    "print(obj_child.father_name)\n",
    "print(obj_child.father_id)"
   ]
  },
  {
   "cell_type": "code",
   "execution_count": 23,
   "id": "11b6e35a",
   "metadata": {},
   "outputs": [
    {
     "name": "stdout",
     "output_type": "stream",
     "text": [
      "hello\n"
     ]
    }
   ],
   "source": [
    "###polymorphism\n",
    "print(\"hello\")\n"
   ]
  },
  {
   "cell_type": "code",
   "execution_count": 24,
   "id": "f541dce1",
   "metadata": {},
   "outputs": [
    {
     "name": "stdout",
     "output_type": "stream",
     "text": [
      "[1, 2, 3, 4, 5]\n"
     ]
    }
   ],
   "source": [
    "lst =[1,2,3,4,5]\n",
    "print(lst)"
   ]
  },
  {
   "cell_type": "code",
   "execution_count": 25,
   "id": "b05a1f1a",
   "metadata": {},
   "outputs": [
    {
     "data": {
      "text/plain": [
       "list"
      ]
     },
     "execution_count": 25,
     "metadata": {},
     "output_type": "execute_result"
    }
   ],
   "source": [
    "type(lst)"
   ]
  },
  {
   "cell_type": "code",
   "execution_count": 1,
   "id": "0b3f3695",
   "metadata": {},
   "outputs": [
    {
     "data": {
      "text/plain": [
       "str"
      ]
     },
     "execution_count": 1,
     "metadata": {},
     "output_type": "execute_result"
    }
   ],
   "source": [
    "type(\"hello\")"
   ]
  },
  {
   "cell_type": "code",
   "execution_count": 2,
   "id": "4ac30eb5",
   "metadata": {},
   "outputs": [],
   "source": [
    "class student:\n",
    "    pass"
   ]
  },
  {
   "cell_type": "code",
   "execution_count": null,
   "id": "49fcdb08",
   "metadata": {},
   "outputs": [],
   "source": [
    "# ##encapsulation\n",
    "# private\n",
    "# public\n",
    "# protected\n",
    "class student:\n",
    "    __name = \"ritik\" ##private variable\n",
    "    age = 20 ##public variable\n",
    "    _id = \"1234\" ##protected variable\n",
    "\n",
    "st_obj = student()"
   ]
  },
  {
   "cell_type": "code",
   "execution_count": 12,
   "id": "c380e90c",
   "metadata": {},
   "outputs": [
    {
     "data": {
      "text/plain": [
       "20"
      ]
     },
     "execution_count": 12,
     "metadata": {},
     "output_type": "execute_result"
    }
   ],
   "source": [
    "st_obj.age"
   ]
  },
  {
   "cell_type": "code",
   "execution_count": 21,
   "id": "208f67e7",
   "metadata": {},
   "outputs": [
    {
     "data": {
      "text/plain": [
       "'1234'"
      ]
     },
     "execution_count": 21,
     "metadata": {},
     "output_type": "execute_result"
    }
   ],
   "source": [
    "st_obj._id"
   ]
  },
  {
   "cell_type": "code",
   "execution_count": null,
   "id": "011c64fc",
   "metadata": {},
   "outputs": [],
   "source": [
    "st_obj._student_name"
   ]
  },
  {
   "cell_type": "code",
   "execution_count": null,
   "id": "7f1c2dad",
   "metadata": {},
   "outputs": [],
   "source": [
    "bank\n",
    "\n",
    "\n",
    "# account number private\n",
    "# name \n",
    "# address\n",
    "# phone number\n",
    "# method\n",
    "# total balance\n",
    "\n",
    "\n",
    "\n",
    "\n",
    "# class \n",
    "# method\n",
    "# inheritance\n",
    "\n",
    "\n",
    "# task 1>>> super function\n",
    "# task 2>>>> Bmi calculator    class"
   ]
  },
  {
   "cell_type": "code",
   "execution_count": 25,
   "id": "dcca713e",
   "metadata": {},
   "outputs": [],
   "source": [
    "class Bank:\n",
    "    accountnumber = \"9810001001268\"\n",
    "    accountholdername =\"harsh\"\n",
    "    address =\"kukhas\" \n",
    "    phonenumber =\"9865321107\"\n",
    "    methods =\"cash\" \n",
    "    accountbalance =\"10000\"\n",
    "\n",
    "st_obj =Bank()\n"
   ]
  },
  {
   "cell_type": "code",
   "execution_count": 26,
   "id": "12e1a4ef",
   "metadata": {},
   "outputs": [
    {
     "data": {
      "text/plain": [
       "'kukhas'"
      ]
     },
     "execution_count": 26,
     "metadata": {},
     "output_type": "execute_result"
    }
   ],
   "source": [
    "st_obj.address"
   ]
  },
  {
   "cell_type": "code",
   "execution_count": 27,
   "id": "95bb449d",
   "metadata": {},
   "outputs": [
    {
     "data": {
      "text/plain": [
       "'harsh'"
      ]
     },
     "execution_count": 27,
     "metadata": {},
     "output_type": "execute_result"
    }
   ],
   "source": [
    "st_obj.accountholdername"
   ]
  },
  {
   "cell_type": "code",
   "execution_count": 28,
   "id": "8cb79e5e",
   "metadata": {},
   "outputs": [
    {
     "data": {
      "text/plain": [
       "'cash'"
      ]
     },
     "execution_count": 28,
     "metadata": {},
     "output_type": "execute_result"
    }
   ],
   "source": [
    "st_obj.methods"
   ]
  },
  {
   "cell_type": "code",
   "execution_count": 29,
   "id": "d3829ea0",
   "metadata": {},
   "outputs": [
    {
     "data": {
      "text/plain": [
       "'10000'"
      ]
     },
     "execution_count": 29,
     "metadata": {},
     "output_type": "execute_result"
    }
   ],
   "source": [
    "st_obj.accountbalance"
   ]
  },
  {
   "cell_type": "code",
   "execution_count": 30,
   "id": "247addb6",
   "metadata": {},
   "outputs": [
    {
     "data": {
      "text/plain": [
       "'9865321107'"
      ]
     },
     "execution_count": 30,
     "metadata": {},
     "output_type": "execute_result"
    }
   ],
   "source": [
    "st_obj.phonenumber"
   ]
  },
  {
   "cell_type": "code",
   "execution_count": 31,
   "id": "3025606d",
   "metadata": {},
   "outputs": [
    {
     "data": {
      "text/plain": [
       "<__main__.Student at 0x2190f18edd0>"
      ]
     },
     "execution_count": 31,
     "metadata": {},
     "output_type": "execute_result"
    }
   ],
   "source": [
    "## constructor\n",
    "#init metod\n",
    "#__init_\n",
    "\n",
    "\n",
    "class Student:\n",
    "    def _init_(self):\n",
    "       pass\n",
    "Student()"
   ]
  },
  {
   "cell_type": "code",
   "execution_count": 26,
   "id": "a7ca1830",
   "metadata": {},
   "outputs": [],
   "source": [
    "class Student:\n",
    "    def _init_(self,name,age):\n",
    "        self.name =name\n",
    "        self.age = age  ###intance variable\n",
    "\n",
    "        obj_st =Student(name =\"ritik\", age=22)\n",
    "        \n",
    "        print(obj_st.name)\n",
    "        print(obj_st.age)\n",
    "        "
   ]
  },
  {
   "cell_type": "markdown",
   "id": "d0b7df3f",
   "metadata": {},
   "source": []
  },
  {
   "cell_type": "code",
   "execution_count": 40,
   "id": "d2f75452",
   "metadata": {},
   "outputs": [],
   "source": [
    "class student:\n",
    "    def _init_(self,name,age,address):\n",
    "        self.name = name\n",
    "        self.age = age \n",
    "        self.address = address\n",
    "    \n",
    "    def display(self):\n",
    "        print(f\"my name is {self.name}, and my age is {self.age}and my address is {self.address}\")\n",
    "        \n",
    "        obj_st=student(name=\"ritik\",age=22,address=\"neemrana\")"
   ]
  },
  {
   "cell_type": "code",
   "execution_count": 35,
   "id": "589cd64d",
   "metadata": {},
   "outputs": [],
   "source": [
    "#class bank\n",
    "#constructor\n",
    "# account number private\n",
    "# name \n",
    "# address\n",
    "# phone number\n",
    "# method\n",
    "#deposit\n",
    "#withdraw\n",
    "# total balance"
   ]
  },
  {
   "cell_type": "code",
   "execution_count": null,
   "id": "edc6a504",
   "metadata": {},
   "outputs": [
    {
     "data": {
      "text/plain": [
       "1300"
      ]
     },
     "execution_count": 42,
     "metadata": {},
     "output_type": "execute_result"
    }
   ],
   "source": [
    "class bank:\n",
    "    def __init__(self, name , age ,amount, account_number, phone_number,address):\n",
    "        self.name =name \n",
    "        self.age =age\n",
    "        self.amount = amount \n",
    "\n",
    "        self.__account_number = account_number\n",
    "        self.phone_number = phone_number\n",
    "    def deposite(self,amount):\n",
    "        self.amount = self.amount+amount\n",
    "        return self.amount\n",
    "    \n",
    "    def withdraw(self,amount):\n",
    "        self.amount = self.amount-amount\n",
    "        return \"success withdraw thanks for using our service\"\n",
    "    \n",
    "    def total_balance(self):\n",
    "        return self.amount\n",
    "    def info(self):\n",
    "        print(\"your name\",self.name)\n",
    "\n",
    "        \n",
    "bn_obj =bank(name=\"ritik\",amount= 1000,age=22,account_number=\"67327\",phone_number=\"2357554\",address=\"neemrana\")\n",
    "bn_obj.deposite(300)"
   ]
  },
  {
   "cell_type": "code",
   "execution_count": 43,
   "id": "33d6ecd3",
   "metadata": {},
   "outputs": [
    {
     "data": {
      "text/plain": [
       "1300"
      ]
     },
     "execution_count": 43,
     "metadata": {},
     "output_type": "execute_result"
    }
   ],
   "source": [
    "bn_obj.amount"
   ]
  },
  {
   "cell_type": "code",
   "execution_count": null,
   "id": "0e37bab2",
   "metadata": {},
   "outputs": [],
   "source": [
    "bn_obj.__account_number\n"
   ]
  },
  {
   "cell_type": "code",
   "execution_count": 55,
   "id": "e3f0eb79",
   "metadata": {},
   "outputs": [
    {
     "name": "stdout",
     "output_type": "stream",
     "text": [
      "Name: Harash\n",
      "Age: 22\n",
      "Employee ID: 101\n",
      "Salary: ₹5500\n"
     ]
    }
   ],
   "source": [
    "class Person:\n",
    "    def _init_(self, name, age):\n",
    "        self.name = name\n",
    "        self.age = age\n",
    "\n",
    "    def show_info(self):\n",
    "        print(f\"Name: {self.name}\")\n",
    "        print(f\"Age: {self.age}\")\n",
    "\n",
    "\n",
    "class Employee(Person):\n",
    "    def __init__(self, name, age, emp_id, salary):\n",
    "        super()._init_(name, age)      \n",
    "        self.emp_id = emp_id\n",
    "        self.salary = salary\n",
    "\n",
    "    def show_info(self):\n",
    "        super().show_info()              \n",
    "        print(f\"Employee ID: {self.emp_id}\")\n",
    "        print(f\"Salary: ₹{self.salary}\")\n",
    "\n",
    "e1 = Employee(\"Harash\", 22, \"101\", 5500)\n",
    "e1.show_info()\n",
    "    "
   ]
  },
  {
   "cell_type": "code",
   "execution_count": 2,
   "id": "8cd247b0",
   "metadata": {},
   "outputs": [
    {
     "name": "stdout",
     "output_type": "stream",
     "text": [
      "Your BMI is: 19.93\n",
      "You have Normal weight.\n"
     ]
    }
   ],
   "source": [
    "class BMICalculator:\n",
    "    def __init__(self, weight, height):\n",
    "        self.weight = weight     \n",
    "        self.height = height      \n",
    "\n",
    "    def calculate_bmi(self):\n",
    "        bmi = self.weight / (self.height ** 2)\n",
    "        return bmi\n",
    "\n",
    "    def interpret_bmi(self):\n",
    "        bmi = self.calculate_bmi()\n",
    "        print(f\"Your BMI is: {bmi:.2f}\")\n",
    "\n",
    "        if bmi < 18.5:\n",
    "            print(\"You are Underweight.\")\n",
    "        elif bmi < 25:\n",
    "            print(\"You have Normal weight.\")\n",
    "        elif bmi < 30:\n",
    "            print(\"You are Overweight.\")\n",
    "        else:\n",
    "            print(\"You are Obese.\")\n",
    "\n",
    "\n",
    "\n",
    "weight = float(input(\"Enter your weight in kg:\"))\n",
    "height = float(input(\"Enter your height in meters: \"))\n",
    "\n",
    "\n",
    "b1 = BMICalculator(weight, height)\n",
    "\n",
    "\n",
    "b1.interpret_bmi()"
   ]
  },
  {
   "cell_type": "code",
   "execution_count": null,
   "id": "a83dc38b",
   "metadata": {},
   "outputs": [],
   "source": []
  }
 ],
 "metadata": {
  "kernelspec": {
   "display_name": "Python 3",
   "language": "python",
   "name": "python3"
  },
  "language_info": {
   "codemirror_mode": {
    "name": "ipython",
    "version": 3
   },
   "file_extension": ".py",
   "mimetype": "text/x-python",
   "name": "python",
   "nbconvert_exporter": "python",
   "pygments_lexer": "ipython3",
   "version": "3.11.5"
  }
 },
 "nbformat": 4,
 "nbformat_minor": 5
}
