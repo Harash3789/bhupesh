{
 "cells": [
  {
   "cell_type": "code",
   "execution_count": 4,
   "id": "c1dae2ba",
   "metadata": {},
   "outputs": [
    {
     "data": {
      "text/plain": [
       "10"
      ]
     },
     "execution_count": 4,
     "metadata": {},
     "output_type": "execute_result"
    }
   ],
   "source": [
    "a = 10\n",
    "a"
   ]
  },
  {
   "cell_type": "code",
   "execution_count": 3,
   "id": "84337ade",
   "metadata": {},
   "outputs": [
    {
     "data": {
      "text/plain": [
       "10"
      ]
     },
     "execution_count": 3,
     "metadata": {},
     "output_type": "execute_result"
    }
   ],
   "source": [
    "a = 10\n",
    "\n",
    "a"
   ]
  },
  {
   "cell_type": "code",
   "execution_count": null,
   "id": "b3ebbc5c",
   "metadata": {},
   "outputs": [
    {
     "name": "stdout",
     "output_type": "stream",
     "text": [
      "x hai vo chota hai 10\n"
     ]
    }
   ],
   "source": [
    "x = 0 \n",
    "if x<10: \n",
    "    print(\"x hai vo chta hai 10\")"
   ]
  },
  {
   "cell_type": "code",
   "execution_count": 1,
   "id": "b3e68b98",
   "metadata": {},
   "outputs": [
    {
     "name": "stdout",
     "output_type": "stream",
     "text": [
      "Leap year\n"
     ]
    }
   ],
   "source": [
    "### leap year check \n",
    "y = 2000\n",
    "\n",
    "# Check if the year is divisible by 4\n",
    "if y % 4 == 0:\n",
    "    \n",
    "    # Check if the year is divisible by 100\n",
    "    if y % 100 == 0:\n",
    "        \n",
    "        # Check if the year is divisible by 400\n",
    "        if y % 400 == 0:\n",
    "            \n",
    "            # Divisible by 400, it is a leap year\n",
    "            print(\"Leap year\") \n",
    "        else:\n",
    "            print(\"Not a leap year\")  \n",
    "    else:\n",
    "        print(\"Leap year\") \n",
    "else:\n",
    "    print(\"Not a leap year\")"
   ]
  },
  {
   "cell_type": "code",
   "execution_count": 3,
   "id": "28f8bb35",
   "metadata": {},
   "outputs": [
    {
     "name": "stdout",
     "output_type": "stream",
     "text": [
      "Enter Marks Obtained in 3 Subjects: \n",
      "Your Grade is D\n"
     ]
    }
   ],
   "source": [
    "## grading system\n",
    "print(\"Enter Marks Obtained in 3 Subjects: \")\n",
    "total1 = 54\n",
    "total2 = 70\n",
    "total3 = 65\n",
    "tot = total1 + total2 + total3\n",
    "avg = tot / 3\n",
    "if avg >= 91 and avg <= 100:\n",
    "    print(\"Your Grade is A\")\n",
    "elif avg >= 81 and avg < 91:\n",
    "    print(\"Your Grade is B\")\n",
    "elif avg >= 71 and avg < 81:\n",
    "    print(\"Your Grade is c\")\n",
    "elif avg >= 61 and avg < 71:\n",
    "    print(\"Your Grade is D\")\n",
    "elif avg >= 51 and avg < 61:\n",
    "    print(\"Your Grade is E\")\n",
    "else:\n",
    "    print(\"invalid input \")"
   ]
  },
  {
   "cell_type": "code",
   "execution_count": 2,
   "id": "e663fe7a",
   "metadata": {},
   "outputs": [
    {
     "name": "stdout",
     "output_type": "stream",
     "text": [
      " Please enter 'red', 'yellow', or 'green'.\n"
     ]
    }
   ],
   "source": [
    "### trafic light signal\n",
    "def traffic_light_simulator():\n",
    "    color = input(\"Enter the current traffic light color (red, yellow, or green): \").lower()\n",
    "\n",
    "    if color == \"red\":\n",
    "        print(\"STOP! Do not move .\")\n",
    "    elif color == \"yellow\":\n",
    "        print(\"Prepare to stop or clear the intersection.\")\n",
    "    elif color == \"green\":\n",
    "        print(\"GO! You may go \")\n",
    "    else:\n",
    "        print(\" Please enter 'red', 'yellow', or 'green'.\")\n",
    "\n",
    "# Call the function to run the simulation\n",
    "traffic_light_simulator()"
   ]
  },
  {
   "cell_type": "code",
   "execution_count": null,
   "id": "3580c25c",
   "metadata": {},
   "outputs": [],
   "source": [
    "\n"
   ]
  }
 ],
 "metadata": {
  "kernelspec": {
   "display_name": "Python 3",
   "language": "python",
   "name": "python3"
  },
  "language_info": {
   "codemirror_mode": {
    "name": "ipython",
    "version": 3
   },
   "file_extension": ".py",
   "mimetype": "text/x-python",
   "name": "python",
   "nbconvert_exporter": "python",
   "pygments_lexer": "ipython3",
   "version": "3.11.5"
  }
 },
 "nbformat": 4,
 "nbformat_minor": 5
}
