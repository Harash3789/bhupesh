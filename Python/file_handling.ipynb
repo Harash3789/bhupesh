{
 "cells": [
  {
   "cell_type": "code",
   "execution_count": null,
   "id": "92890c47",
   "metadata": {},
   "outputs": [],
   "source": [
    "#read   a\n",
    "#write   w\n",
    "#append   a\n",
    "#crate   x"
   ]
  },
  {
   "cell_type": "markdown",
   "id": "aec78c04",
   "metadata": {},
   "source": [
    "\n",
    "\n",
    "### *File handling* \n",
    "\n",
    "| Mode   | Description                                                  |\n",
    "| ------ | ------------------------------------------------------------ |\n",
    "| \"r\"  | Read mode (default), error if file doesn't exist             |\n",
    "| \"w\"  | Write mode, creates a file if not exist, overwrites existing |\n",
    "| \"a\"  | Append mode, adds content to end of file                     |\n",
    "| \"x\"  | Create mode, error if file already exists                    |\n",
    "                                         |"
   ]
  },
  {
   "cell_type": "code",
   "execution_count": 4,
   "id": "a77f1a69",
   "metadata": {},
   "outputs": [],
   "source": [
    "file =open('demo.txt','r')  ### r for read and demo.txt is name of file\n",
    "file.read()   ###it will read the file\n",
    "file.close()"
   ]
  },
  {
   "cell_type": "code",
   "execution_count": 5,
   "id": "12a6f516",
   "metadata": {},
   "outputs": [],
   "source": [
    "file =open('demo.txt','r')  ### r for read and demo.txt is name of file\n",
    "file.read()   ###it will read the file\n",
    "file.readline()  #### it will read the first line of the file \n",
    "file.close()\n"
   ]
  },
  {
   "cell_type": "code",
   "execution_count": 6,
   "id": "2fbffb1a",
   "metadata": {},
   "outputs": [],
   "source": [
    "file = open('demo.txt','r')## it will append the file\n",
    "### file.readlines()### it will read all the lines of the file\n",
    "file.close()\n"
   ]
  },
  {
   "cell_type": "code",
   "execution_count": 7,
   "id": "4b7348de",
   "metadata": {},
   "outputs": [],
   "source": [
    "file = open('demo.txt','w')## w for write mode and is name of file\n",
    "### file.readlines()### it will read the file\n",
    "file.write(\"hello world\")###it will write the file\n",
    "file.close()"
   ]
  },
  {
   "cell_type": "code",
   "execution_count": 8,
   "id": "889f88c8",
   "metadata": {},
   "outputs": [],
   "source": [
    "file =open('demo.txt','r')\n",
    "file.read()\n",
    "file.close()"
   ]
  },
  {
   "cell_type": "code",
   "execution_count": 13,
   "id": "e36221dd",
   "metadata": {},
   "outputs": [],
   "source": [
    "\n",
    "##### apend mode\n",
    "file =open('demo.txt','a')\n",
    "file.write(\"hello bhai kese ho\")\n",
    "file.close()"
   ]
  },
  {
   "cell_type": "code",
   "execution_count": 14,
   "id": "2470802a",
   "metadata": {},
   "outputs": [],
   "source": [
    "file =open(\"demo.txt\",'a')\n",
    "file.close()"
   ]
  },
  {
   "cell_type": "code",
   "execution_count": 20,
   "id": "c8e14a8d",
   "metadata": {},
   "outputs": [],
   "source": [
    "file =open(\"txt.txt\",'a')\n",
    "file.write(\"apend mode kaa kam ye hota hai ki agr esko file milti hai to te usi fileke ander krdega append krdega agt esko file nahi milti hai to create kr dega \")\n",
    "file.close()\n"
   ]
  },
  {
   "cell_type": "code",
   "execution_count": 25,
   "id": "bbca7de5",
   "metadata": {},
   "outputs": [
    {
     "data": {
      "text/plain": [
       "'apend mode kaa kam ye hota hai ki agr esko file milti hai to te usi fileke ander krdega append krdega agt esko file nahi milti hai to create kr dega apend mode kaa kam ye hota hai ki agr esko file milti hai to te usi fileke ander krdega append krdega agt esko file nahi milti hai to create kr dega apend mode kaa kam ye hota hai ki agr esko file milti hai to te usi fileke ander krdega append krdega agt esko file nahi milti hai to create kr dega '"
      ]
     },
     "execution_count": 25,
     "metadata": {},
     "output_type": "execute_result"
    }
   ],
   "source": [
    "open(\"txt.txt\",'r').read()"
   ]
  },
  {
   "cell_type": "code",
   "execution_count": 29,
   "id": "44d78460",
   "metadata": {},
   "outputs": [],
   "source": [
    "#### create mode \n",
    "\n",
    "\n",
    "file =open(\"up.txt\",'x')\n",
    "file.write(\"hello kese lga upflair aake\")\n",
    "file.close()\n",
    "##file.read()"
   ]
  },
  {
   "cell_type": "code",
   "execution_count": null,
   "id": "8508b230",
   "metadata": {},
   "outputs": [],
   "source": []
  }
 ],
 "metadata": {
  "kernelspec": {
   "display_name": "Python 3",
   "language": "python",
   "name": "python3"
  },
  "language_info": {
   "codemirror_mode": {
    "name": "ipython",
    "version": 3
   },
   "file_extension": ".py",
   "mimetype": "text/x-python",
   "name": "python",
   "nbconvert_exporter": "python",
   "pygments_lexer": "ipython3",
   "version": "3.11.5"
  }
 },
 "nbformat": 4,
 "nbformat_minor": 5
}
