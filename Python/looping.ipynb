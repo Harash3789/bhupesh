{
 "cells": [
  {
   "cell_type": "markdown",
   "id": "3f81972a",
   "metadata": {},
   "source": [
    "##looping in python\n",
    "\n",
    "In Python, are control structure that allow you to execute a block of code repeatedly. They are two main type of loop;-\n",
    "\n",
    "    For\n",
    "\n",
    "    while\n",
    "\n",
    "    \"bhupesh\""
   ]
  },
  {
   "cell_type": "code",
   "execution_count": 1,
   "id": "25dd17ef",
   "metadata": {},
   "outputs": [
    {
     "ename": "SyntaxError",
     "evalue": "expected ':' (389513168.py, line 4)",
     "output_type": "error",
     "traceback": [
      "  \u001b[36mCell\u001b[39m\u001b[36m \u001b[39m\u001b[32mIn[1]\u001b[39m\u001b[32m, line 4\u001b[39m\n\u001b[31m    \u001b[39m\u001b[31mfor x in \"bhupesh:\"\u001b[39m\n                       ^\n\u001b[31mSyntaxError\u001b[39m\u001b[31m:\u001b[39m expected ':'\n"
     ]
    }
   ],
   "source": [
    "# for\n",
    "# while \n",
    "# \"bhupesh\n",
    "for x in \"bhupesh:\"\n",
    "print(x)\n"
   ]
  },
  {
   "cell_type": "markdown",
   "id": "3ee31135",
   "metadata": {},
   "source": [
    "##Looping in python\n"
   ]
  },
  {
   "cell_type": "code",
   "execution_count": null,
   "id": "4bdf6b2a",
   "metadata": {},
   "outputs": [
    {
     "ename": "SyntaxError",
     "evalue": "expected ':' (2381359711.py, line 1)",
     "output_type": "error",
     "traceback": [
      "  \u001b[36mCell\u001b[39m\u001b[36m \u001b[39m\u001b[32mIn[2]\u001b[39m\u001b[32m, line 1\u001b[39m\n\u001b[31m    \u001b[39m\u001b[31mfor x in range(2,22,2)\u001b[39m\n                          ^\n\u001b[31mSyntaxError\u001b[39m\u001b[31m:\u001b[39m expected ':'\n"
     ]
    }
   ],
   "source": [
    "for x in range(2,22,2)\n",
    "print(x )  ###start point and second ending and 2 gap"
   ]
  },
  {
   "cell_type": "code",
   "execution_count": null,
   "id": "ee4d2267",
   "metadata": {},
   "outputs": [
    {
     "name": "stdout",
     "output_type": "stream",
     "text": [
      "b is the largest number\n"
     ]
    }
   ],
   "source": [
    "###find the largest number\n",
    "\n",
    "a = 20\n",
    "b = 35\n",
    "c = 25\n",
    "if (a>=b and a>=c):\n",
    "    print(\"a is the largest number\")\n",
    "\n",
    "elif(b>=a and b>=c):\n",
    "    print(\"b is the largest number\")\n",
    "\n",
    "else:\n",
    "    print(\"c is the largest number\")\n"
   ]
  },
  {
   "cell_type": "code",
   "execution_count": null,
   "id": "ac82b7a3",
   "metadata": {},
   "outputs": [
    {
     "name": "stdout",
     "output_type": "stream",
     "text": [
      " odd.\n"
     ]
    }
   ],
   "source": [
    "##  even or odd\n",
    "x = 5\n",
    "\n",
    "\n",
    "if x % 2 == 0:\n",
    "    print(\" even.\")\n",
    "else:\n",
    "    print(\" odd.\")"
   ]
  },
  {
   "cell_type": "markdown",
   "id": "26b037c5",
   "metadata": {},
   "source": [
    " # while loop "
   ]
  },
  {
   "cell_type": "code",
   "execution_count": null,
   "id": "9c30c78e",
   "metadata": {},
   "outputs": [],
   "source": [
    "# = and == and is \n",
    "# or and not\n",
    "# in and not in\n",
    "#pdke aama chaiye tha n"
   ]
  },
  {
   "cell_type": "code",
   "execution_count": null,
   "id": "3b25b55f",
   "metadata": {},
   "outputs": [],
   "source": [
    "## a =20 \n",
    "# while a>10:\n",
    "# print(a)\n",
    "# a = a+1\n",
    "\n",
    "##while "
   ]
  }
 ],
 "metadata": {
  "kernelspec": {
   "display_name": "Python 3",
   "language": "python",
   "name": "python3"
  },
  "language_info": {
   "codemirror_mode": {
    "name": "ipython",
    "version": 3
   },
   "file_extension": ".py",
   "mimetype": "text/x-python",
   "name": "python",
   "nbconvert_exporter": "python",
   "pygments_lexer": "ipython3",
   "version": "3.11.5"
  }
 },
 "nbformat": 4,
 "nbformat_minor": 5
}
