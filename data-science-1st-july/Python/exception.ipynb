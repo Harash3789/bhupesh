{
 "cells": [
  {
   "cell_type": "code",
   "execution_count": 1,
   "id": "1ff4037c",
   "metadata": {},
   "outputs": [],
   "source": [
    "try :\n",
    "    pass##main code\n",
    "except:\n",
    "    pass##error handle\n",
    "else:\n",
    "    pass###multiple error\n",
    "finally:\n",
    "    pass###koi chale na chle me to chalunga"
   ]
  },
  {
   "cell_type": "code",
   "execution_count": null,
   "id": "404fdeae",
   "metadata": {},
   "outputs": [
    {
     "name": "stdout",
     "output_type": "stream",
     "text": [
      "200\n"
     ]
    }
   ],
   "source": [
    "try:\n",
    "    a =int(input(\"enter a number\"))\n",
    "    b =int(input(\"enter secind number\"))\n",
    "    print(a*b)\n",
    "except ValueError as e:\n",
    "    print(\"invalid input\",e)\n",
    "\n",
    "\n",
    "    #python erro handling"
   ]
  },
  {
   "cell_type": "code",
   "execution_count": null,
   "id": "223ab4f8",
   "metadata": {},
   "outputs": [
    {
     "name": "stdout",
     "output_type": "stream",
     "text": [
      "10.0\n"
     ]
    }
   ],
   "source": [
    "try:\n",
    "    a =int(input(\"enter a number\"))\n",
    "    b =int(input(\"enter secind number\"))\n",
    "    print(a/b)\n",
    "except ZeroDivisionError as e:\n",
    "    print(e)\n",
    "\n",
    "    #python error handling"
   ]
  },
  {
   "cell_type": "code",
   "execution_count": 10,
   "id": "17a90148",
   "metadata": {},
   "outputs": [
    {
     "name": "stdout",
     "output_type": "stream",
     "text": [
      "invalid literal for int() with base 10: 'dfsg'\n"
     ]
    }
   ],
   "source": [
    "try:\n",
    "    a =int(input(\"enter a number\"))\n",
    "    b =int(input(\"enter secind number\"))\n",
    "    print (a/b)\n",
    "except Exception as e:\n",
    "    print(e)"
   ]
  },
  {
   "cell_type": "code",
   "execution_count": null,
   "id": "b371904e",
   "metadata": {},
   "outputs": [
    {
     "name": "stdout",
     "output_type": "stream",
     "text": [
      "0.5\n",
      "no error\n",
      "koi chake na chleme tho chalunga\n"
     ]
    }
   ],
   "source": [
    "try:\n",
    "    a =int(input(\"enter a number\"))\n",
    "    b =int(input(\"enter secind number\"))\n",
    "    print (a/b)\n",
    "except ZeroDivisionError as e:\n",
    "    print(e)\n",
    "else:\n",
    "    print(\"no error\")\n",
    "finally:\n",
    "    print(\"koi chake na chleme tho chalunga\")"
   ]
  },
  {
   "cell_type": "code",
   "execution_count": 13,
   "id": "74eec82e",
   "metadata": {},
   "outputs": [
    {
     "name": "stdout",
     "output_type": "stream",
     "text": [
      "division by zero\n",
      "koi chake na chleme tho chalunga\n"
     ]
    }
   ],
   "source": [
    "try:\n",
    "    a =int(input(\"enter a number\"))\n",
    "    b =int(input(\"enter secind number\"))\n",
    "    print (a/b)\n",
    "except Exception as e:\n",
    "    print(e)\n",
    "else:\n",
    "    print(\"no error\")\n",
    "    print(a*b)\n",
    "finally:\n",
    "    print(\"koi chake na chleme tho chalunga\")"
   ]
  },
  {
   "cell_type": "code",
   "execution_count": 14,
   "id": "6e861b2e",
   "metadata": {},
   "outputs": [
    {
     "name": "stdout",
     "output_type": "stream",
     "text": [
      "final_result:- 6.0\n",
      "thanks for using our service\n"
     ]
    }
   ],
   "source": [
    "try:\n",
    "    num1 =int(input(\"enter a number\"))\n",
    "    num2 =int(input(\"enter second number\"))\n",
    "    result =num1/num2\n",
    "except ZeroDivisionError as e:\n",
    "    print(e)\n",
    "except ValueError as e:\n",
    "    print(e)\n",
    "except Exception as e:\n",
    "    print(e)\n",
    "else:\n",
    "    print(\"final_result:-\",result)\n",
    "finally:\n",
    "    print(\"thanks for using our service\")"
   ]
  },
  {
   "cell_type": "code",
   "execution_count": null,
   "id": "ede02e08",
   "metadata": {},
   "outputs": [],
   "source": []
  }
 ],
 "metadata": {
  "kernelspec": {
   "display_name": "Python 3",
   "language": "python",
   "name": "python3"
  },
  "language_info": {
   "codemirror_mode": {
    "name": "ipython",
    "version": 3
   },
   "file_extension": ".py",
   "mimetype": "text/x-python",
   "name": "python",
   "nbconvert_exporter": "python",
   "pygments_lexer": "ipython3",
   "version": "3.11.5"
  }
 },
 "nbformat": 4,
 "nbformat_minor": 5
}
